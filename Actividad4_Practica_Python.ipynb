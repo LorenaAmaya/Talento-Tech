{
  "nbformat": 4,
  "nbformat_minor": 0,
  "metadata": {
    "colab": {
      "provenance": [],
      "authorship_tag": "ABX9TyPKIHTbtCZie8H6EwnLmN9l",
      "include_colab_link": true
    },
    "kernelspec": {
      "name": "python3",
      "display_name": "Python 3"
    },
    "language_info": {
      "name": "python"
    }
  },
  "cells": [
    {
      "cell_type": "markdown",
      "metadata": {
        "id": "view-in-github",
        "colab_type": "text"
      },
      "source": [
        "<a href=\"https://colab.research.google.com/github/LorenaAmaya/Talento-Tech/blob/main/Actividad4_Practica_Python.ipynb\" target=\"_parent\"><img src=\"https://colab.research.google.com/assets/colab-badge.svg\" alt=\"Open In Colab\"/></a>"
      ]
    },
    {
      "cell_type": "markdown",
      "source": [
        "##Corporacion universitaria iberoamericana\n",
        "##Fundamento en ciencia de datos\n",
        "\n",
        "Ingri Lorena Amaya Velasquez\n"
      ],
      "metadata": {
        "id": "XQe5DmP2LVXm"
      }
    },
    {
      "cell_type": "markdown",
      "source": [
        "##Actividad 4: Ciencia de datos en accion\n",
        "En este apartado desarrollaremos una serie de ejercicios para fortalecer nuestros conocimientos en Python\n"
      ],
      "metadata": {
        "id": "--DswCDPq791"
      }
    },
    {
      "cell_type": "markdown",
      "source": [
        "#Ejercicio 1:\n",
        "Escribir un programa en Python que declare una lista y la vaya llenando de numeros hasta que introduzcamos un numero negativo. Entonces se debe imprimir el vector (solo los valores introducidos)"
      ],
      "metadata": {
        "id": "Ce4MW7V_rP_k"
      }
    },
    {
      "cell_type": "code",
      "source": [
        "#Creamos una lista vacia\n",
        "numeros = []\n",
        "\n",
        "#Inicia un bucle infinito\n",
        "while True:\n",
        "  numero = int(input(\"Ingrese un numero (negativo para salir): \"))\n",
        "  #Si el numero es negativo se sale del bucle con BREAK\n",
        "  if numero < 0:\n",
        "    break\n",
        "  numeros.append(numero)\n",
        "\n",
        "print(\"/nLos numeros introducidos fueron:\", numeros)"
      ],
      "metadata": {
        "colab": {
          "base_uri": "https://localhost:8080/"
        },
        "id": "6ja3Iyc5k0W2",
        "outputId": "8def143f-35a2-45c3-ff16-9f3b58c66117"
      },
      "execution_count": null,
      "outputs": [
        {
          "output_type": "stream",
          "name": "stdout",
          "text": [
            "Ingrese un numero (negativo para salir): 1\n",
            "Ingrese un numero (negativo para salir): 2\n",
            "Ingrese un numero (negativo para salir): 3\n",
            "Ingrese un numero (negativo para salir): 4\n",
            "Ingrese un numero (negativo para salir): 5\n",
            "Ingrese un numero (negativo para salir): -6\n",
            "/nLos numeros introducidos fueron: [1, 2, 3, 4, 5]\n"
          ]
        }
      ]
    },
    {
      "cell_type": "markdown",
      "source": [
        "#Ejercicio 2:\n",
        "Escribir un programa en Python que declare tres listas ´lista1´, ´lista2´, y ´lista3´, de cinco enteros cada uno, pida valores para cada lista1 y lista2 y calcule lista3=lista1+lista2\n"
      ],
      "metadata": {
        "id": "dzScvs6fxP-h"
      }
    },
    {
      "cell_type": "code",
      "source": [
        "#creamos las listas\n",
        "lista1 = []\n",
        "lista2 = []\n",
        "lista3 = []\n",
        "\n",
        "#Pedimos 5 valores para la lista1\n",
        "for i in range(5):\n",
        "  lista1.append(int(input(\"Ingrese un numero para la lista1: \")))\n",
        "\n",
        "#Pedimos 5 valores para la lista2\n",
        "for i in range(5):\n",
        "  lista2.append(int(input(\"Ingrese un numero para la lista2: \")))\n",
        "\n",
        "#Sumamos los elementos y los guardamos en la lista3\n",
        "for i in range(5):\n",
        "  suma = lista1[i] + lista2[i]\n",
        "  lista3.append(suma)\n",
        "\n",
        "#Mostramos la lista3\n",
        "print(\"La lista3 (suma de lista1 y lista2) es: \", lista3)\n",
        "\n",
        "\n"
      ],
      "metadata": {
        "colab": {
          "base_uri": "https://localhost:8080/"
        },
        "id": "r3Y5cwt3ivLA",
        "outputId": "06c6b7ec-0607-4f10-f983-eebba5ffa18e"
      },
      "execution_count": null,
      "outputs": [
        {
          "output_type": "stream",
          "name": "stdout",
          "text": [
            "Ingrese un numero para la lista1: 1\n",
            "Ingrese un numero para la lista1: 2\n",
            "Ingrese un numero para la lista1: 3\n",
            "Ingrese un numero para la lista1: 4\n",
            "Ingrese un numero para la lista1: 5\n",
            "Ingrese un numero para la lista2: 6\n",
            "Ingrese un numero para la lista2: 7\n",
            "Ingrese un numero para la lista2: 8\n",
            "Ingrese un numero para la lista2: 9\n",
            "Ingrese un numero para la lista2: 10\n",
            "La lista3 (suma de lista1 y lista2) es:  [7, 9, 11, 13, 15]\n"
          ]
        }
      ]
    },
    {
      "cell_type": "markdown",
      "source": [
        "#Ejercicio 3:\n",
        "Escribir un programa que guarde 2la temperatura minima y maxima de los ultimos 5 dias. el programa debe recibir informacion, almacenarla y mostrar:\n",
        "- La temperatura media de cada dia\n",
        "- Los dias con menor temperatura\n",
        "- Despues de almacenar la informacion de los 5 dias, el programa debe recinir una temperatura mas por teclado y mostrar los dias cuya temperatyura maxima coincide con ella. si no existe ningun dia se muestra un mensaje de informacion\n",
        "\n"
      ],
      "metadata": {
        "id": "bCuS8XMQNx9-"
      }
    },
    {
      "cell_type": "code",
      "source": [
        "# Lista para guardar las temperaturas de cada día\n",
        "temperaturas = []\n",
        "\n",
        "# Recoger temperaturas mínimas y máximas de los últimos 5 días\n",
        "for i in range(5):\n",
        "    print(f\"\\nDía {i+1}\")\n",
        "    temp_min = float(input(\"Introduce la temperatura mínima: \"))\n",
        "    temp_max = float(input(\"Introduce la temperatura máxima: \"))\n",
        "    temperaturas.append({'min': temp_min, 'max': temp_max})\n",
        "\n",
        "# Mostrar la temperatura media de cada día\n",
        "print(\"\\nTemperatura media de cada día:\")\n",
        "for i, temp in enumerate(temperaturas):\n",
        "    media = (temp['min'] + temp['max']) / 2\n",
        "    print(f\"Día {i+1}: {media:.2f}°C\")\n",
        "\n",
        "# Encontrar los días con menor temperatura mínima\n",
        "min_temp = min(t['min'] for t in temperaturas)\n",
        "dias_minimos = [i+1 for i, t in enumerate(temperaturas) if t['min'] == min_temp]\n",
        "print(f\"\\nLa menor temperatura mínima fue {min_temp}°C en los días: {dias_minimos}\")\n",
        "\n",
        "# Recibir una temperatura extra para buscar coincidencias en las máximas\n",
        "temp_extra = float(input(\"\\nIntroduce una temperatura máxima para buscar coincidencias: \"))\n",
        "dias_coinciden = [i+1 for i, t in enumerate(temperaturas) if t['max'] == temp_extra]\n",
        "\n",
        "if dias_coinciden:\n",
        "    print(f\"La temperatura máxima {temp_extra}°C fue registrada en los días: {dias_coinciden}\")\n",
        "else:\n",
        "    print(\"No hay ningún día con esa temperatura máxima.\")\n"
      ],
      "metadata": {
        "colab": {
          "base_uri": "https://localhost:8080/"
        },
        "id": "OVGiMuV1dy52",
        "outputId": "3e447193-d58a-4356-bfc7-473db83fe4f2"
      },
      "execution_count": null,
      "outputs": [
        {
          "output_type": "stream",
          "name": "stdout",
          "text": [
            "\n",
            "Día 1\n",
            "Introduce la temperatura mínima: 10\n",
            "Introduce la temperatura máxima: 15\n",
            "\n",
            "Día 2\n",
            "Introduce la temperatura mínima: 15\n",
            "Introduce la temperatura máxima: 29\n",
            "\n",
            "Día 3\n",
            "Introduce la temperatura mínima: 9\n",
            "Introduce la temperatura máxima: 15\n",
            "\n",
            "Día 4\n",
            "Introduce la temperatura mínima: 11\n",
            "Introduce la temperatura máxima: 19\n",
            "\n",
            "Día 5\n",
            "Introduce la temperatura mínima: 12\n",
            "Introduce la temperatura máxima: 19\n",
            "\n",
            "Temperatura media de cada día:\n",
            "Día 1: 12.50°C\n",
            "Día 2: 22.00°C\n",
            "Día 3: 12.00°C\n",
            "Día 4: 15.00°C\n",
            "Día 5: 15.50°C\n",
            "\n",
            "La menor temperatura mínima fue 9.0°C en los días: [3]\n",
            "\n",
            "Introduce una temperatura máxima para buscar coincidencias: 12\n",
            "No hay ningún día con esa temperatura máxima.\n"
          ]
        }
      ]
    },
    {
      "cell_type": "markdown",
      "source": [
        "#Ejercicio 4:\n",
        "  Crea un programa en Python que permita adivinar un número. La aplicación genera un número aleatorio del 1 al 100. A continuación, va pidiendo números y va respondiendo si el número a adivinar es mayor o menor que el introducido, así como el número de intentos que quedan, se contarán con 10 intentos para adivinar el número). El programa termina cuando se acierta el número y debe indicar en que intento fue acertado, si se llega al límite\n",
        "  de intentos, el programa debe mostrar que se había generado."
      ],
      "metadata": {
        "id": "cRsLE20VoNcU"
      }
    },
    {
      "cell_type": "code",
      "source": [
        "#importamos la libreria\n",
        "import random\n",
        "\n",
        "#Generamos un numero aleatorio entre 1 y 100\n",
        "numero_secreto = random.randint(1, 100)\n",
        "\n",
        "#Inicializamos el contador de intentos\n",
        "intentos = 10\n",
        "acertado = False\n",
        "\n",
        "print('Adivina el numero entre 1 y 100')\n",
        "print(f'Tienes {intentos} intentos. \\n')\n",
        "\n",
        "#Ponemos el numero de intentos\n",
        "for intento in range(1, intentos +1):\n",
        "  intento_usuario = int(input(f'Intento {intento}: ingresa tu numero:  '))\n",
        "\n",
        "#Si el intento acierta se rompe el ciclo\n",
        "  if intento_usuario == numero_secreto:\n",
        "    print(f'¡Felicidades! Adivinaste el numero {numero_secreto} en el intento {intento}.')\n",
        "    acertado = True\n",
        "    break\n",
        "#Si el intento es fallido muestra la pista, si es mayor o si es menor\n",
        "  elif intento_usuario < numero_secreto:\n",
        "    print(f'El numero es mayor.')\n",
        "  else:\n",
        "    print(f'El numero es menor.')\n",
        "\n",
        "#Si se acaban los intentos, muestra el numero secreto\n",
        "  if not acertado:\n",
        "    print(f'Se han agotado los intentos. El numero secreto era {numero_secreto}.')"
      ],
      "metadata": {
        "colab": {
          "base_uri": "https://localhost:8080/"
        },
        "id": "1tc7FYEIeq1K",
        "outputId": "c0269fb3-be52-44e8-c3fe-da54cdc71ce3"
      },
      "execution_count": null,
      "outputs": [
        {
          "output_type": "stream",
          "name": "stdout",
          "text": [
            "Adivina el numero entre 1 y 100\n",
            "Tienes 10 intentos. \n",
            "\n",
            "Intento 1: ingresa tu numero:  10\n",
            "El numero es mayor.\n",
            "Se han agotado los intentos. El numero secreto era 91.\n",
            "Intento 2: ingresa tu numero:  80\n",
            "El numero es mayor.\n",
            "Se han agotado los intentos. El numero secreto era 91.\n",
            "Intento 3: ingresa tu numero:  100\n",
            "El numero es menor.\n",
            "Se han agotado los intentos. El numero secreto era 91.\n",
            "Intento 4: ingresa tu numero:  30\n",
            "El numero es mayor.\n",
            "Se han agotado los intentos. El numero secreto era 91.\n",
            "Intento 5: ingresa tu numero:  98\n",
            "El numero es menor.\n",
            "Se han agotado los intentos. El numero secreto era 91.\n",
            "Intento 6: ingresa tu numero:  95\n",
            "El numero es menor.\n",
            "Se han agotado los intentos. El numero secreto era 91.\n",
            "Intento 7: ingresa tu numero:  94\n",
            "El numero es menor.\n",
            "Se han agotado los intentos. El numero secreto era 91.\n",
            "Intento 8: ingresa tu numero:  93\n",
            "El numero es menor.\n",
            "Se han agotado los intentos. El numero secreto era 91.\n",
            "Intento 9: ingresa tu numero:  95\n",
            "El numero es menor.\n",
            "Se han agotado los intentos. El numero secreto era 91.\n",
            "Intento 10: ingresa tu numero:  96\n",
            "El numero es menor.\n",
            "Se han agotado los intentos. El numero secreto era 91.\n"
          ]
        }
      ]
    },
    {
      "cell_type": "markdown",
      "source": [
        "#Ejercicio 5:\n",
        "Para finalizar esta actividad, el estudiante creará un programa en Python que permite conectarse a Twitter y analizar los últimos 20 twitts de un usuario elegido para identificar algún patrón en los twitts tomados. Lo que se busca con el ejercicio es que el estudiante se familiarice con tweepy (API – Twitter), la cual nos permitirá conectarnos y hacer queries\n",
        "en esta red social.\n"
      ],
      "metadata": {
        "id": "ts3wg7EIwtO8"
      }
    },
    {
      "cell_type": "code",
      "source": [
        "#Instalamos la libreria tweepy\n",
        "!pip install tweepy\n",
        "\n",
        "print('Instalacion exitosa')"
      ],
      "metadata": {
        "colab": {
          "base_uri": "https://localhost:8080/"
        },
        "id": "yxuhaSPrqHow",
        "outputId": "aec29083-6c7e-43a5-f25d-157de097017d"
      },
      "execution_count": null,
      "outputs": [
        {
          "output_type": "stream",
          "name": "stdout",
          "text": [
            "Requirement already satisfied: tweepy in /usr/local/lib/python3.11/dist-packages (4.15.0)\n",
            "Requirement already satisfied: oauthlib<4,>=3.2.0 in /usr/local/lib/python3.11/dist-packages (from tweepy) (3.2.2)\n",
            "Requirement already satisfied: requests<3,>=2.27.0 in /usr/local/lib/python3.11/dist-packages (from tweepy) (2.32.3)\n",
            "Requirement already satisfied: requests-oauthlib<3,>=1.2.0 in /usr/local/lib/python3.11/dist-packages (from tweepy) (2.0.0)\n",
            "Requirement already satisfied: charset-normalizer<4,>=2 in /usr/local/lib/python3.11/dist-packages (from requests<3,>=2.27.0->tweepy) (3.4.1)\n",
            "Requirement already satisfied: idna<4,>=2.5 in /usr/local/lib/python3.11/dist-packages (from requests<3,>=2.27.0->tweepy) (3.10)\n",
            "Requirement already satisfied: urllib3<3,>=1.21.1 in /usr/local/lib/python3.11/dist-packages (from requests<3,>=2.27.0->tweepy) (2.3.0)\n",
            "Requirement already satisfied: certifi>=2017.4.17 in /usr/local/lib/python3.11/dist-packages (from requests<3,>=2.27.0->tweepy) (2025.1.31)\n",
            "Instalacion exitosa\n"
          ]
        }
      ]
    },
    {
      "cell_type": "code",
      "source": [
        "#Llamos las librerias\n",
        "import tweepy\n",
        "from getpass import getpass"
      ],
      "metadata": {
        "id": "Gjkf3bX1xND2"
      },
      "execution_count": 2,
      "outputs": []
    },
    {
      "cell_type": "markdown",
      "source": [],
      "metadata": {
        "id": "b3uEIeU370T5"
      }
    },
    {
      "cell_type": "code",
      "source": [
        "#Generamos la conexion a partir de un bearer token\n",
        "#Este es unico, y se genera en developer portal de x\n",
        "bearer_token = getpass('Ingresa tu bearer token: ')\n",
        "client = tweepy.Client(bearer_token=bearer_token)"
      ],
      "metadata": {
        "colab": {
          "base_uri": "https://localhost:8080/"
        },
        "id": "y39byPd0f6Oi",
        "outputId": "16c6bf82-d619-437a-e704-a700fc2e6db7"
      },
      "execution_count": 3,
      "outputs": [
        {
          "name": "stdout",
          "output_type": "stream",
          "text": [
            "Ingresa tu bearer token: ··········\n"
          ]
        }
      ]
    },
    {
      "cell_type": "code",
      "source": [
        "#aca ingresamos el nombre del usuario\n",
        "usuario = input('Ingresa el nombre de usuario (sin@): ')\n",
        "\n",
        "#Con la conexion hace la busquedaa del ID del usuario\n",
        "user = client.get_user(username=usuario)\n",
        "user_id = user.data.id\n",
        "\n",
        "#Recopila los ultimos 20 tweets del usuario seleccionado\n",
        "tweets = client.get_users_tweets(id=user_id, max_results=20,\n",
        "                                 exclude=['retweets', 'replies'])\n",
        "\n",
        "#Muestra los tweets y los enumera\n",
        "print(f'Los ultimos 20 tweets de {usuario} son: ')\n",
        "for i, tweet in enumerate(tweets.data, 1):\n",
        "  print(f'{i}. {tweet.text}')"
      ],
      "metadata": {
        "colab": {
          "base_uri": "https://localhost:8080/"
        },
        "id": "fMvkY-hRgZZV",
        "outputId": "96c2814c-b3aa-4a80-9e9f-c51fa4194332"
      },
      "execution_count": 4,
      "outputs": [
        {
          "output_type": "stream",
          "name": "stdout",
          "text": [
            "Ingresa el nombre de usuario (sin@): LauraCVargas96\n",
            "Los ultimos 20 tweets de LauraCVargas96 son: \n",
            "1. Es inadmisible que la Alcaldía de Bello niegue la identidad de género de Sara Millerey, refiriéndose a ella por su nombre de nacimiento. A ella la mató la transfobia y los discursos de odio que ellos mismos - y todos los que niegan que ella era una mujer trans - perpetúan. https://t.co/1zeuJvDH2n\n",
            "2. Aunque el lobby no es ilegal sí es una práctica que no es transparente. Los colombianos deben saber cuáles son los congresistas que, como @kroarbelaez, pueden tener conflictos de interés que les hagan legislar en contra del pueblo trabajador y a favor de los gremios. https://t.co/notZBr92wx\n",
            "3. La creación de imágenes con inteligencia artificial al estilo estudio Ghibli tiene varios dilemas éticos detrás. Y es clave cuestionarse ¿queremos hacer parte de una moda que copia a los artistas sin su consentimiento y que para su funcionamiento genera un alto costo ambiental? https://t.co/GcOLXhVzsF\n",
            "4. Me perdí ¿El Día del Hombre no es todos los días desde hace siglos?\n",
            "5. Qué miedo que existan personas tan acomodadas. Jamás confíen en quien siempre se arrima al árbol que más sombra le da. https://t.co/CujegwIQAG https://t.co/yj5i2es0bh\n",
            "6. ¿Desde cuándo es machismo y misoginia señalar el clan político familiar del que hace parte una senadora a quien le encanta presentar proyectos de ley que benefician los negocios de su familia? \n",
            "\n",
            "¡Dejen de instrumentalizar la causa feminista pa’ todo!\n",
            "7. ¿Deslegitimar al Congreso elegido por voto popular? Hay que recordar: \n",
            "\n",
            "1. La Cámara, que también hace parte del Congreso, ha aprobado las reformas sociales en dos debates. \n",
            "2. Son 8 senadores los que quieren archivar la laboral. ¿8 es todo el Congreso?\n",
            "3. El Senado no está https://t.co/xY0aUs7UEP\n",
            "8. ¿Por qué parece haber miedo en que se haga una consulta popular sobre las reformas sociales? Este es un mecanismo de participación ciudadana consagrado en la Constitución.\n",
            "\n",
            "¡Es momento de que demuestren que les gusta la democracia siempre, no solo cuando les conviene! https://t.co/By0GPEnt6P\n",
            "9. “Antiderechos”: corean los aprendices del SENA que se tomaron este martes el Congreso. \n",
            "\n",
            "Se lo dicen a los 8 senadores que hundieron la reforma laboral que proponía un contrato de aprendizaje que rescataba el pago de un salario mínimo durante la fase productiva. https://t.co/oG4yt7BlRP\n",
            "10. Preocupante que personajes con tanto eco, como lo es la candidata @VickyDavilaH, promuevan un discurso tan ignorante frente a la hoja de coca.\n",
            "\n",
            "Repitan conmigo: la coca no es cocaína y su eliminación de las sustancias dañinas en la ONU no implica favorecer el narcotráfico. \n",
            "\n",
            "¡La https://t.co/sIJrrUuiv1\n",
            "11. Se burlaron de la primera imagen pero todo el tiempo se conocen estos caso. ¡La zoofilia existe y hay que condenarla! https://t.co/lKS6ke3WcS\n",
            "12. Una fuerza colectiva 💜 #8M https://t.co/qEGAwhDd5i\n",
            "13. “¿Quién dio la orden?”, es una pregunta que se han hecho miles de víctimas de los falsos positivos. Ahora es vulgarmente usada por el @CeDemocratico para hacer una campaña revictimizante que glorifica la violencia. Que les queda claro: en 2026 no volverán a dar al orden. https://t.co/bxMWdZZrSc\n",
            "14. La labor profesional de la Directora de Sustitución de Cultivos, Gloria Miranda, se ha visto ensombrecida por titulares sexistas y comentarios machistas en redes sociales. Es normal que resalten que es hermosa, porque lo es. Lo que está mal es hipersexualizarla y minimizar sus https://t.co/rgyhamN5Qa\n",
            "15. Tengan en cuenta que Diageo Colombia está dando becas del 100% para estudiar coctelería, ventas y servicios  para quienes buscan crecer en la industria gastronómica.  Esto hace parte de su programa #LearningForLife, con el que le apuestan a la educación como mecanismo de https://t.co/ecBJaP3ypP\n",
            "16. Oigan, qué chimba esta oportunidad que está dando Diageo Colombia para formar de manera gratuita a miles de jóvenes que quieren estudiar coctelería. \n",
            "\n",
            "Las becas hacen parte del programa #LearningForLife. ¡Ayúdenme a que esta oportunidad que cambia vidas llegue a más personas! https://t.co/ecBJaP30Ah\n",
            "17. La oposición hizo más show por el ministro de Petro que no pasó la sustentación de su tesis, que por la exrepresentante del Centro Democrático a quien le suspendieron la tesis por plagio y el ministro de Duque que fue investigado por plagio en tesis doctoral.\n",
            "18. Espero no tener que volver a ver a las mujeres “feministas” que hoy justifican, abrazan y sonríen a Armando Benedetti usar un pañuelo verde. ¡Hasta ahí les llegó la causa feminista entonces háganos un favor de no volverla a instrumentalizar!\n",
            "19. ¡No saben qué más hacer! Como las maniobras dilatorias no les han funcionado ahora buscan intimidar al testigo clave en el juicio contra Uribe. Es evidente que le temen a la verdad. Su conducta no es la de un acusado que se sienta inocente.\n",
            "20. Inconcebible lo que está pasando con las tasas de interés de Icetex. Los estudiantes pusieron a @petrogustavo en la Presidencia. Muchos de ellos votaron con la ilusión de que se cumpliera su promesa de campaña de condonar las deudas. https://t.co/i0ipVYiitj\n"
          ]
        }
      ]
    },
    {
      "cell_type": "markdown",
      "source": [
        "- Para analizar los tweets vamos a realizar un conteo de palabras, para asi saber cuales son las palabras mas usadas,  cual es la longitud promedio de los tweets y cual es el total de palabras utilizadas en los 20  tweets."
      ],
      "metadata": {
        "id": "aSQhPOVYM2XF"
      }
    },
    {
      "cell_type": "code",
      "source": [
        "#Con counter podemos contar las palabras mas usadas\n",
        "#con re quitamos los url y signos\n",
        "from collections import Counter\n",
        "import re\n",
        "\n",
        "#Unimos todos los textos en un solo sting\n",
        "texto_completo = ' '.join([tweet.text for tweet in tweets.data])\n",
        "\n",
        "#Eliminamos los simbolos de puntuacion basicos\n",
        "texto_limpio = re.sub(r'http\\S+|[^a-zA-Z0-9#@\\s]', '', texto_completo)\n",
        "\n",
        "#Separamos las palabras\n",
        "palabras = texto_limpio.lower().split()\n",
        "\n",
        "#Contamos la frecuencia de las palbras\n",
        "conteo = Counter(palabras)\n",
        "\n",
        "#Mostramos las estadisticas\n",
        "print('Analisis de los ultimos 20 tweets:')\n",
        "\n",
        "#cuenta la cantidad de palabras en los 20 tweets\n",
        "print(f'cantidad de palabras: {len(palabras)}')\n",
        "\n",
        "#Muestra cual es longitud promedio de los tweets\n",
        "print(f'Longitud promedio de los tweets: {sum(len(t.text) for t in tweets.data) / len(tweets.data):.2f}caracters')\n",
        "\n",
        "#Muestra cuales son las 10 palabras mas usadas\n",
        "print(f'Palabras mas comunes:')\n",
        "for palabra, cantidad in conteo.most_common(10):\n",
        "  print(f'{palabra}: {cantidad}')"
      ],
      "metadata": {
        "colab": {
          "base_uri": "https://localhost:8080/"
        },
        "id": "4t9RXJyLj7VY",
        "outputId": "46521ab6-69cd-488c-f5c2-57292f94abb1"
      },
      "execution_count": 5,
      "outputs": [
        {
          "output_type": "stream",
          "name": "stdout",
          "text": [
            "Analisis de los ultimos 20 tweets:\n",
            "cantidad de palabras: 761\n",
            "Longitud promedio de los tweets: 246.55caracters\n",
            "Palabras mas comunes:\n",
            "que: 46\n",
            "de: 39\n",
            "la: 34\n",
            "es: 20\n",
            "a: 19\n",
            "el: 14\n",
            "no: 14\n",
            "y: 13\n",
            "los: 13\n",
            "en: 13\n"
          ]
        }
      ]
    },
    {
      "cell_type": "code",
      "source": [],
      "metadata": {
        "id": "lv8IguOz6zoS"
      },
      "execution_count": null,
      "outputs": []
    }
  ]
}