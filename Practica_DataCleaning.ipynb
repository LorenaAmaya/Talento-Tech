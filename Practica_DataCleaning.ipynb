{
  "nbformat": 4,
  "nbformat_minor": 0,
  "metadata": {
    "colab": {
      "provenance": [],
      "authorship_tag": "ABX9TyO3WuGYe5GhKmDB2cXXgPwc",
      "include_colab_link": true
    },
    "kernelspec": {
      "name": "python3",
      "display_name": "Python 3"
    },
    "language_info": {
      "name": "python"
    }
  },
  "cells": [
    {
      "cell_type": "markdown",
      "metadata": {
        "id": "view-in-github",
        "colab_type": "text"
      },
      "source": [
        "<a href=\"https://colab.research.google.com/github/LorenaAmaya/Talento-Tech/blob/main/Practica_DataCleaning.ipynb\" target=\"_parent\"><img src=\"https://colab.research.google.com/assets/colab-badge.svg\" alt=\"Open In Colab\"/></a>"
      ]
    },
    {
      "cell_type": "markdown",
      "source": [
        "TUTORIAL LIMPIEZA DE DATOS CON PYTHON Y PANDAS\n",
        "1. EL PROBLEMA DEL NEGOCIO\n",
        "Una entidad bancaria contrata a una empresa de marketing encargada de contactar telefonicamente a posibles clientes para determinar si estan interesados o no en adquirir un certificado de deposito a termino con el banco.\n",
        "¿que perfil tienen los clientes con mayor potencial de conversion?"
      ],
      "metadata": {
        "id": "M5zaK3wpeoau"
      }
    },
    {
      "cell_type": "markdown",
      "source": [
        "2. EL SET DE DATOS\n",
        "La información recolectada por la empresa de mercadeo se encuentra en un archivo CSV (`dataset_banco.csv`) con 45215 filas y 17 columnas.\n",
        "\n",
        "Cada registro contiene 16 características (las primeras 16 columnas) y una categoría (\"yes\" o \"no\" dependiendo de si la persona está o no interesada en adquirir el producto). Las columnas son:\n",
        "\n",
        "1. \"age\":  edad (numérica)\n",
        "2. \"job\": tipo de trabajo (categórica: \"admin.\", \"unknown\", \"unemployed\", \"management\", \"housemaid\", \"entrepreneur\", \"student\", \"blue-collar\",\"self-employed\", \"retired\", \"technician\", \"services\")\n",
        "3. \"marital\": estado civil (categórica: \"married\", \"divorced\", \"single\")\n",
        "4. \"education\": nivel educativo (categórica: \"unknown\", \"secondary\", \"primary\", \"tertiary\")\n",
        "5. \"default\": si dejó de pagar sus obligaciones (categórica: \"yes\", \"no\")\n",
        "6. \"balance\": saldo promedio anual en euros (numérica)\n",
        "7. \"housing\": ¿tiene o no crédito hipotecario? (categórica: \"yes\", \"no\")\n",
        "8. \"loan\": ¿tiene créditos de consumo? (categórica: \"yes\", \"no\")\n",
        "9. \"contact\": medio a través del cual fue contactado (categórica: \"unknown\", \"telephone\", \"cellular\")\n",
        "10. \"day\": último día del mes en el que fue contactada (numérica)\n",
        "11. \"month\": último mes en el que fue contactada (categórica: \"jan\", \"feb\", \"mar\", ..., \"nov\", \"dec\")\n",
        "12. \"duration\": duración (en segundos) del último contacto (numérica)\n",
        "13. \"campaign\": número total de veces que fue contactada durante la campaña (numérica)\n",
        "14. \"pdays\": número de días transcurridos después de haber sido contactado antes de la campaña actual (numérica. -1 indica que no fue contactado previamente)\n",
        "15. \"previous\": número de veces que ha sido contactada antes de esta campaña (numérica)\n",
        "16. \"poutcome\": resultado de la campaña de marketing anterior (categórica: \"unknown\", \"other\", \"failure\", \"success\")\n",
        "17. \"y\": categoría ¿el cliente se suscribió a un depósito a término? (categórica: \"yes\", \"no\")\n",
        "\n",
        "\n",
        "\n"
      ],
      "metadata": {
        "id": "WA_rnw73f7YR"
      }
    },
    {
      "cell_type": "markdown",
      "source": [
        "3. UNA PRIMERA MIRADA AL DATASET\n"
      ],
      "metadata": {
        "id": "df6QlmEvgYX4"
      }
    },
    {
      "cell_type": "code",
      "execution_count": 42,
      "metadata": {
        "id": "Nl5anEmXcc1Z"
      },
      "outputs": [],
      "source": [
        "# Impotar librerias\n",
        "import pandas as pd\n",
        "import matplotlib.pyplot as pit\n",
        "import seaborn as sns"
      ]
    },
    {
      "cell_type": "code",
      "source": [
        "# Lectura\n",
        "from google.colab import drive\n",
        "drive.mount('/content/drive')\n",
        "\n",
        "ruta = '''/content/drive/MyDrive/TALENTO TECH/Copia de dataset_banco.csv'''\n",
        "data = pd.read_csv(ruta)"
      ],
      "metadata": {
        "colab": {
          "base_uri": "https://localhost:8080/"
        },
        "id": "MGTpYMb0g-HL",
        "outputId": "23afdaa2-100d-4b16-a587-86e53d069569"
      },
      "execution_count": 43,
      "outputs": [
        {
          "output_type": "stream",
          "name": "stdout",
          "text": [
            "Drive already mounted at /content/drive; to attempt to forcibly remount, call drive.mount(\"/content/drive\", force_remount=True).\n"
          ]
        }
      ]
    },
    {
      "cell_type": "code",
      "source": [
        "print(data.shape)\n",
        "data.head()"
      ],
      "metadata": {
        "colab": {
          "base_uri": "https://localhost:8080/",
          "height": 223
        },
        "id": "0XwYwL4wh2fJ",
        "outputId": "bda8d931-656c-4a2e-8bc6-24ce3c2d220a"
      },
      "execution_count": 44,
      "outputs": [
        {
          "output_type": "stream",
          "name": "stdout",
          "text": [
            "(45215, 17)\n"
          ]
        },
        {
          "output_type": "execute_result",
          "data": {
            "text/plain": [
              "   age           job  marital  education default  balance housing loan  \\\n",
              "0   58    management  married   tertiary      no   2143.0     yes   no   \n",
              "1   44    technician   single  secondary      no     29.0     yes   no   \n",
              "2   33  entrepreneur  married  secondary      no      2.0     yes  yes   \n",
              "3   47   blue-collar  married    unknown      no   1506.0     yes   no   \n",
              "4   33       unknown   single    unknown      no      1.0      no   no   \n",
              "\n",
              "   contact  day month  duration  campaign  pdays  previous poutcome   y  \n",
              "0  unknown    5   may     261.0         1   -1.0         0  unknown  no  \n",
              "1  unknown    5   may     151.0         1   -1.0         0  unknown  no  \n",
              "2  unknown    5   may      76.0         1   -1.0         0  unknown  no  \n",
              "3  unknown    5   may      92.0         1   -1.0         0  unknown  no  \n",
              "4  unknown    5   may     198.0         1   -1.0         0  unknown  no  "
            ],
            "text/html": [
              "\n",
              "  <div id=\"df-f4271741-1c85-41f4-823a-6bc84502a067\" class=\"colab-df-container\">\n",
              "    <div>\n",
              "<style scoped>\n",
              "    .dataframe tbody tr th:only-of-type {\n",
              "        vertical-align: middle;\n",
              "    }\n",
              "\n",
              "    .dataframe tbody tr th {\n",
              "        vertical-align: top;\n",
              "    }\n",
              "\n",
              "    .dataframe thead th {\n",
              "        text-align: right;\n",
              "    }\n",
              "</style>\n",
              "<table border=\"1\" class=\"dataframe\">\n",
              "  <thead>\n",
              "    <tr style=\"text-align: right;\">\n",
              "      <th></th>\n",
              "      <th>age</th>\n",
              "      <th>job</th>\n",
              "      <th>marital</th>\n",
              "      <th>education</th>\n",
              "      <th>default</th>\n",
              "      <th>balance</th>\n",
              "      <th>housing</th>\n",
              "      <th>loan</th>\n",
              "      <th>contact</th>\n",
              "      <th>day</th>\n",
              "      <th>month</th>\n",
              "      <th>duration</th>\n",
              "      <th>campaign</th>\n",
              "      <th>pdays</th>\n",
              "      <th>previous</th>\n",
              "      <th>poutcome</th>\n",
              "      <th>y</th>\n",
              "    </tr>\n",
              "  </thead>\n",
              "  <tbody>\n",
              "    <tr>\n",
              "      <th>0</th>\n",
              "      <td>58</td>\n",
              "      <td>management</td>\n",
              "      <td>married</td>\n",
              "      <td>tertiary</td>\n",
              "      <td>no</td>\n",
              "      <td>2143.0</td>\n",
              "      <td>yes</td>\n",
              "      <td>no</td>\n",
              "      <td>unknown</td>\n",
              "      <td>5</td>\n",
              "      <td>may</td>\n",
              "      <td>261.0</td>\n",
              "      <td>1</td>\n",
              "      <td>-1.0</td>\n",
              "      <td>0</td>\n",
              "      <td>unknown</td>\n",
              "      <td>no</td>\n",
              "    </tr>\n",
              "    <tr>\n",
              "      <th>1</th>\n",
              "      <td>44</td>\n",
              "      <td>technician</td>\n",
              "      <td>single</td>\n",
              "      <td>secondary</td>\n",
              "      <td>no</td>\n",
              "      <td>29.0</td>\n",
              "      <td>yes</td>\n",
              "      <td>no</td>\n",
              "      <td>unknown</td>\n",
              "      <td>5</td>\n",
              "      <td>may</td>\n",
              "      <td>151.0</td>\n",
              "      <td>1</td>\n",
              "      <td>-1.0</td>\n",
              "      <td>0</td>\n",
              "      <td>unknown</td>\n",
              "      <td>no</td>\n",
              "    </tr>\n",
              "    <tr>\n",
              "      <th>2</th>\n",
              "      <td>33</td>\n",
              "      <td>entrepreneur</td>\n",
              "      <td>married</td>\n",
              "      <td>secondary</td>\n",
              "      <td>no</td>\n",
              "      <td>2.0</td>\n",
              "      <td>yes</td>\n",
              "      <td>yes</td>\n",
              "      <td>unknown</td>\n",
              "      <td>5</td>\n",
              "      <td>may</td>\n",
              "      <td>76.0</td>\n",
              "      <td>1</td>\n",
              "      <td>-1.0</td>\n",
              "      <td>0</td>\n",
              "      <td>unknown</td>\n",
              "      <td>no</td>\n",
              "    </tr>\n",
              "    <tr>\n",
              "      <th>3</th>\n",
              "      <td>47</td>\n",
              "      <td>blue-collar</td>\n",
              "      <td>married</td>\n",
              "      <td>unknown</td>\n",
              "      <td>no</td>\n",
              "      <td>1506.0</td>\n",
              "      <td>yes</td>\n",
              "      <td>no</td>\n",
              "      <td>unknown</td>\n",
              "      <td>5</td>\n",
              "      <td>may</td>\n",
              "      <td>92.0</td>\n",
              "      <td>1</td>\n",
              "      <td>-1.0</td>\n",
              "      <td>0</td>\n",
              "      <td>unknown</td>\n",
              "      <td>no</td>\n",
              "    </tr>\n",
              "    <tr>\n",
              "      <th>4</th>\n",
              "      <td>33</td>\n",
              "      <td>unknown</td>\n",
              "      <td>single</td>\n",
              "      <td>unknown</td>\n",
              "      <td>no</td>\n",
              "      <td>1.0</td>\n",
              "      <td>no</td>\n",
              "      <td>no</td>\n",
              "      <td>unknown</td>\n",
              "      <td>5</td>\n",
              "      <td>may</td>\n",
              "      <td>198.0</td>\n",
              "      <td>1</td>\n",
              "      <td>-1.0</td>\n",
              "      <td>0</td>\n",
              "      <td>unknown</td>\n",
              "      <td>no</td>\n",
              "    </tr>\n",
              "  </tbody>\n",
              "</table>\n",
              "</div>\n",
              "    <div class=\"colab-df-buttons\">\n",
              "\n",
              "  <div class=\"colab-df-container\">\n",
              "    <button class=\"colab-df-convert\" onclick=\"convertToInteractive('df-f4271741-1c85-41f4-823a-6bc84502a067')\"\n",
              "            title=\"Convert this dataframe to an interactive table.\"\n",
              "            style=\"display:none;\">\n",
              "\n",
              "  <svg xmlns=\"http://www.w3.org/2000/svg\" height=\"24px\" viewBox=\"0 -960 960 960\">\n",
              "    <path d=\"M120-120v-720h720v720H120Zm60-500h600v-160H180v160Zm220 220h160v-160H400v160Zm0 220h160v-160H400v160ZM180-400h160v-160H180v160Zm440 0h160v-160H620v160ZM180-180h160v-160H180v160Zm440 0h160v-160H620v160Z\"/>\n",
              "  </svg>\n",
              "    </button>\n",
              "\n",
              "  <style>\n",
              "    .colab-df-container {\n",
              "      display:flex;\n",
              "      gap: 12px;\n",
              "    }\n",
              "\n",
              "    .colab-df-convert {\n",
              "      background-color: #E8F0FE;\n",
              "      border: none;\n",
              "      border-radius: 50%;\n",
              "      cursor: pointer;\n",
              "      display: none;\n",
              "      fill: #1967D2;\n",
              "      height: 32px;\n",
              "      padding: 0 0 0 0;\n",
              "      width: 32px;\n",
              "    }\n",
              "\n",
              "    .colab-df-convert:hover {\n",
              "      background-color: #E2EBFA;\n",
              "      box-shadow: 0px 1px 2px rgba(60, 64, 67, 0.3), 0px 1px 3px 1px rgba(60, 64, 67, 0.15);\n",
              "      fill: #174EA6;\n",
              "    }\n",
              "\n",
              "    .colab-df-buttons div {\n",
              "      margin-bottom: 4px;\n",
              "    }\n",
              "\n",
              "    [theme=dark] .colab-df-convert {\n",
              "      background-color: #3B4455;\n",
              "      fill: #D2E3FC;\n",
              "    }\n",
              "\n",
              "    [theme=dark] .colab-df-convert:hover {\n",
              "      background-color: #434B5C;\n",
              "      box-shadow: 0px 1px 3px 1px rgba(0, 0, 0, 0.15);\n",
              "      filter: drop-shadow(0px 1px 2px rgba(0, 0, 0, 0.3));\n",
              "      fill: #FFFFFF;\n",
              "    }\n",
              "  </style>\n",
              "\n",
              "    <script>\n",
              "      const buttonEl =\n",
              "        document.querySelector('#df-f4271741-1c85-41f4-823a-6bc84502a067 button.colab-df-convert');\n",
              "      buttonEl.style.display =\n",
              "        google.colab.kernel.accessAllowed ? 'block' : 'none';\n",
              "\n",
              "      async function convertToInteractive(key) {\n",
              "        const element = document.querySelector('#df-f4271741-1c85-41f4-823a-6bc84502a067');\n",
              "        const dataTable =\n",
              "          await google.colab.kernel.invokeFunction('convertToInteractive',\n",
              "                                                    [key], {});\n",
              "        if (!dataTable) return;\n",
              "\n",
              "        const docLinkHtml = 'Like what you see? Visit the ' +\n",
              "          '<a target=\"_blank\" href=https://colab.research.google.com/notebooks/data_table.ipynb>data table notebook</a>'\n",
              "          + ' to learn more about interactive tables.';\n",
              "        element.innerHTML = '';\n",
              "        dataTable['output_type'] = 'display_data';\n",
              "        await google.colab.output.renderOutput(dataTable, element);\n",
              "        const docLink = document.createElement('div');\n",
              "        docLink.innerHTML = docLinkHtml;\n",
              "        element.appendChild(docLink);\n",
              "      }\n",
              "    </script>\n",
              "  </div>\n",
              "\n",
              "\n",
              "<div id=\"df-279c8268-3a1e-4d73-ad2b-e9ded7f039ea\">\n",
              "  <button class=\"colab-df-quickchart\" onclick=\"quickchart('df-279c8268-3a1e-4d73-ad2b-e9ded7f039ea')\"\n",
              "            title=\"Suggest charts\"\n",
              "            style=\"display:none;\">\n",
              "\n",
              "<svg xmlns=\"http://www.w3.org/2000/svg\" height=\"24px\"viewBox=\"0 0 24 24\"\n",
              "     width=\"24px\">\n",
              "    <g>\n",
              "        <path d=\"M19 3H5c-1.1 0-2 .9-2 2v14c0 1.1.9 2 2 2h14c1.1 0 2-.9 2-2V5c0-1.1-.9-2-2-2zM9 17H7v-7h2v7zm4 0h-2V7h2v10zm4 0h-2v-4h2v4z\"/>\n",
              "    </g>\n",
              "</svg>\n",
              "  </button>\n",
              "\n",
              "<style>\n",
              "  .colab-df-quickchart {\n",
              "      --bg-color: #E8F0FE;\n",
              "      --fill-color: #1967D2;\n",
              "      --hover-bg-color: #E2EBFA;\n",
              "      --hover-fill-color: #174EA6;\n",
              "      --disabled-fill-color: #AAA;\n",
              "      --disabled-bg-color: #DDD;\n",
              "  }\n",
              "\n",
              "  [theme=dark] .colab-df-quickchart {\n",
              "      --bg-color: #3B4455;\n",
              "      --fill-color: #D2E3FC;\n",
              "      --hover-bg-color: #434B5C;\n",
              "      --hover-fill-color: #FFFFFF;\n",
              "      --disabled-bg-color: #3B4455;\n",
              "      --disabled-fill-color: #666;\n",
              "  }\n",
              "\n",
              "  .colab-df-quickchart {\n",
              "    background-color: var(--bg-color);\n",
              "    border: none;\n",
              "    border-radius: 50%;\n",
              "    cursor: pointer;\n",
              "    display: none;\n",
              "    fill: var(--fill-color);\n",
              "    height: 32px;\n",
              "    padding: 0;\n",
              "    width: 32px;\n",
              "  }\n",
              "\n",
              "  .colab-df-quickchart:hover {\n",
              "    background-color: var(--hover-bg-color);\n",
              "    box-shadow: 0 1px 2px rgba(60, 64, 67, 0.3), 0 1px 3px 1px rgba(60, 64, 67, 0.15);\n",
              "    fill: var(--button-hover-fill-color);\n",
              "  }\n",
              "\n",
              "  .colab-df-quickchart-complete:disabled,\n",
              "  .colab-df-quickchart-complete:disabled:hover {\n",
              "    background-color: var(--disabled-bg-color);\n",
              "    fill: var(--disabled-fill-color);\n",
              "    box-shadow: none;\n",
              "  }\n",
              "\n",
              "  .colab-df-spinner {\n",
              "    border: 2px solid var(--fill-color);\n",
              "    border-color: transparent;\n",
              "    border-bottom-color: var(--fill-color);\n",
              "    animation:\n",
              "      spin 1s steps(1) infinite;\n",
              "  }\n",
              "\n",
              "  @keyframes spin {\n",
              "    0% {\n",
              "      border-color: transparent;\n",
              "      border-bottom-color: var(--fill-color);\n",
              "      border-left-color: var(--fill-color);\n",
              "    }\n",
              "    20% {\n",
              "      border-color: transparent;\n",
              "      border-left-color: var(--fill-color);\n",
              "      border-top-color: var(--fill-color);\n",
              "    }\n",
              "    30% {\n",
              "      border-color: transparent;\n",
              "      border-left-color: var(--fill-color);\n",
              "      border-top-color: var(--fill-color);\n",
              "      border-right-color: var(--fill-color);\n",
              "    }\n",
              "    40% {\n",
              "      border-color: transparent;\n",
              "      border-right-color: var(--fill-color);\n",
              "      border-top-color: var(--fill-color);\n",
              "    }\n",
              "    60% {\n",
              "      border-color: transparent;\n",
              "      border-right-color: var(--fill-color);\n",
              "    }\n",
              "    80% {\n",
              "      border-color: transparent;\n",
              "      border-right-color: var(--fill-color);\n",
              "      border-bottom-color: var(--fill-color);\n",
              "    }\n",
              "    90% {\n",
              "      border-color: transparent;\n",
              "      border-bottom-color: var(--fill-color);\n",
              "    }\n",
              "  }\n",
              "</style>\n",
              "\n",
              "  <script>\n",
              "    async function quickchart(key) {\n",
              "      const quickchartButtonEl =\n",
              "        document.querySelector('#' + key + ' button');\n",
              "      quickchartButtonEl.disabled = true;  // To prevent multiple clicks.\n",
              "      quickchartButtonEl.classList.add('colab-df-spinner');\n",
              "      try {\n",
              "        const charts = await google.colab.kernel.invokeFunction(\n",
              "            'suggestCharts', [key], {});\n",
              "      } catch (error) {\n",
              "        console.error('Error during call to suggestCharts:', error);\n",
              "      }\n",
              "      quickchartButtonEl.classList.remove('colab-df-spinner');\n",
              "      quickchartButtonEl.classList.add('colab-df-quickchart-complete');\n",
              "    }\n",
              "    (() => {\n",
              "      let quickchartButtonEl =\n",
              "        document.querySelector('#df-279c8268-3a1e-4d73-ad2b-e9ded7f039ea button');\n",
              "      quickchartButtonEl.style.display =\n",
              "        google.colab.kernel.accessAllowed ? 'block' : 'none';\n",
              "    })();\n",
              "  </script>\n",
              "</div>\n",
              "\n",
              "    </div>\n",
              "  </div>\n"
            ],
            "application/vnd.google.colaboratory.intrinsic+json": {
              "type": "dataframe",
              "variable_name": "data",
              "summary": "{\n  \"name\": \"data\",\n  \"rows\": 45215,\n  \"fields\": [\n    {\n      \"column\": \"age\",\n      \"properties\": {\n        \"dtype\": \"number\",\n        \"std\": 12,\n        \"min\": 18,\n        \"max\": 776,\n        \"samples\": [\n          89,\n          58,\n          74\n        ],\n        \"num_unique_values\": 85,\n        \"semantic_type\": \"\",\n        \"description\": \"\"\n      }\n    },\n    {\n      \"column\": \"job\",\n      \"properties\": {\n        \"dtype\": \"category\",\n        \"samples\": [\n          \"management\",\n          \"technician\",\n          \"services\"\n        ],\n        \"num_unique_values\": 18,\n        \"semantic_type\": \"\",\n        \"description\": \"\"\n      }\n    },\n    {\n      \"column\": \"marital\",\n      \"properties\": {\n        \"dtype\": \"category\",\n        \"samples\": [\n          \"married\",\n          \"single\",\n          \"Single\"\n        ],\n        \"num_unique_values\": 6,\n        \"semantic_type\": \"\",\n        \"description\": \"\"\n      }\n    },\n    {\n      \"column\": \"education\",\n      \"properties\": {\n        \"dtype\": \"category\",\n        \"samples\": [\n          \"Tertiary\",\n          \"secondary\",\n          \"Secondary\"\n        ],\n        \"num_unique_values\": 10,\n        \"semantic_type\": \"\",\n        \"description\": \"\"\n      }\n    },\n    {\n      \"column\": \"default\",\n      \"properties\": {\n        \"dtype\": \"category\",\n        \"samples\": [\n          \"yes\",\n          \"no\"\n        ],\n        \"num_unique_values\": 2,\n        \"semantic_type\": \"\",\n        \"description\": \"\"\n      }\n    },\n    {\n      \"column\": \"balance\",\n      \"properties\": {\n        \"dtype\": \"number\",\n        \"std\": 3924.255524653657,\n        \"min\": -8019.0,\n        \"max\": 527532.0,\n        \"samples\": [\n          3276.0,\n          43.0\n        ],\n        \"num_unique_values\": 7168,\n        \"semantic_type\": \"\",\n        \"description\": \"\"\n      }\n    },\n    {\n      \"column\": \"housing\",\n      \"properties\": {\n        \"dtype\": \"category\",\n        \"samples\": [\n          \"no\",\n          \"yes\"\n        ],\n        \"num_unique_values\": 2,\n        \"semantic_type\": \"\",\n        \"description\": \"\"\n      }\n    },\n    {\n      \"column\": \"loan\",\n      \"properties\": {\n        \"dtype\": \"category\",\n        \"samples\": [\n          \"no\",\n          \"yes\"\n        ],\n        \"num_unique_values\": 6,\n        \"semantic_type\": \"\",\n        \"description\": \"\"\n      }\n    },\n    {\n      \"column\": \"contact\",\n      \"properties\": {\n        \"dtype\": \"category\",\n        \"samples\": [\n          \"cellular\",\n          \"mobile\"\n        ],\n        \"num_unique_values\": 5,\n        \"semantic_type\": \"\",\n        \"description\": \"\"\n      }\n    },\n    {\n      \"column\": \"day\",\n      \"properties\": {\n        \"dtype\": \"number\",\n        \"std\": 8,\n        \"min\": 1,\n        \"max\": 31,\n        \"samples\": [\n          1,\n          27\n        ],\n        \"num_unique_values\": 31,\n        \"semantic_type\": \"\",\n        \"description\": \"\"\n      }\n    },\n    {\n      \"column\": \"month\",\n      \"properties\": {\n        \"dtype\": \"category\",\n        \"samples\": [\n          \"apr\",\n          \"mar\"\n        ],\n        \"num_unique_values\": 12,\n        \"semantic_type\": \"\",\n        \"description\": \"\"\n      }\n    },\n    {\n      \"column\": \"duration\",\n      \"properties\": {\n        \"dtype\": \"number\",\n        \"std\": 257.6051746062185,\n        \"min\": -1389.0,\n        \"max\": 4918.0,\n        \"samples\": [\n          1342.0,\n          4.0\n        ],\n        \"num_unique_values\": 1575,\n        \"semantic_type\": \"\",\n        \"description\": \"\"\n      }\n    },\n    {\n      \"column\": \"campaign\",\n      \"properties\": {\n        \"dtype\": \"number\",\n        \"std\": 3,\n        \"min\": 1,\n        \"max\": 63,\n        \"samples\": [\n          41,\n          27\n        ],\n        \"num_unique_values\": 48,\n        \"semantic_type\": \"\",\n        \"description\": \"\"\n      }\n    },\n    {\n      \"column\": \"pdays\",\n      \"properties\": {\n        \"dtype\": \"number\",\n        \"std\": 100.12062172110123,\n        \"min\": -1.0,\n        \"max\": 871.0,\n        \"samples\": [\n          249.0,\n          551.0\n        ],\n        \"num_unique_values\": 559,\n        \"semantic_type\": \"\",\n        \"description\": \"\"\n      }\n    },\n    {\n      \"column\": \"previous\",\n      \"properties\": {\n        \"dtype\": \"number\",\n        \"std\": 2,\n        \"min\": 0,\n        \"max\": 275,\n        \"samples\": [\n          17,\n          9\n        ],\n        \"num_unique_values\": 41,\n        \"semantic_type\": \"\",\n        \"description\": \"\"\n      }\n    },\n    {\n      \"column\": \"poutcome\",\n      \"properties\": {\n        \"dtype\": \"category\",\n        \"samples\": [\n          \"unknown\",\n          \"UNK\"\n        ],\n        \"num_unique_values\": 6,\n        \"semantic_type\": \"\",\n        \"description\": \"\"\n      }\n    },\n    {\n      \"column\": \"y\",\n      \"properties\": {\n        \"dtype\": \"category\",\n        \"samples\": [\n          \"yes\",\n          \"no\"\n        ],\n        \"num_unique_values\": 2,\n        \"semantic_type\": \"\",\n        \"description\": \"\"\n      }\n    }\n  ]\n}"
            }
          },
          "metadata": {},
          "execution_count": 44
        }
      ]
    },
    {
      "cell_type": "code",
      "source": [
        "# Veamos las variables categoricas y las numericas\n",
        "data.info()"
      ],
      "metadata": {
        "colab": {
          "base_uri": "https://localhost:8080/"
        },
        "id": "Q1gxtSPgimCk",
        "outputId": "cb7da827-c68a-4195-f3b1-dd7ec5404b7f"
      },
      "execution_count": 45,
      "outputs": [
        {
          "output_type": "stream",
          "name": "stdout",
          "text": [
            "<class 'pandas.core.frame.DataFrame'>\n",
            "RangeIndex: 45215 entries, 0 to 45214\n",
            "Data columns (total 17 columns):\n",
            " #   Column     Non-Null Count  Dtype  \n",
            "---  ------     --------------  -----  \n",
            " 0   age        45215 non-null  int64  \n",
            " 1   job        45213 non-null  object \n",
            " 2   marital    45214 non-null  object \n",
            " 3   education  45214 non-null  object \n",
            " 4   default    45215 non-null  object \n",
            " 5   balance    45213 non-null  float64\n",
            " 6   housing    45215 non-null  object \n",
            " 7   loan       45215 non-null  object \n",
            " 8   contact    45215 non-null  object \n",
            " 9   day        45215 non-null  int64  \n",
            " 10  month      45215 non-null  object \n",
            " 11  duration   45214 non-null  float64\n",
            " 12  campaign   45215 non-null  int64  \n",
            " 13  pdays      45214 non-null  float64\n",
            " 14  previous   45215 non-null  int64  \n",
            " 15  poutcome   45215 non-null  object \n",
            " 16  y          45215 non-null  object \n",
            "dtypes: float64(3), int64(4), object(10)\n",
            "memory usage: 5.9+ MB\n"
          ]
        }
      ]
    },
    {
      "cell_type": "markdown",
      "source": [
        "4. LIMPIEZA\n",
        "\n",
        "Realizaremos el proceso de limpieza teniendo en cuenta las situaciones más comunes:\n",
        "\n",
        "1. Datos faltantes en algunas celdas\n",
        "2. Columnas irrelevantes (que no responden al problema que queremos resolver)\n",
        "3. Registros (filas) repetidos\n",
        "4. Valores extremos (*outliers*) en el caso de las variables numéricas. Se deben analizar en detalle pues no necesariamente la solución es eliminarlos\n",
        "5. Errores tipográficos en el caso de las variables categóricas\n",
        "\n",
        "Al final de este proceso de limpieza deberíamos tener un set de datos **íntegro**, listo para la fase de Análisis Exploratorio.\n"
      ],
      "metadata": {
        "id": "7yZBjsAlkf4-"
      }
    },
    {
      "cell_type": "markdown",
      "source": [
        "4.1 DATOS FALTANTES\n",
        "\n",
        "Acá comenzamos a ver que los datos no están completos, pues no todas las columnas tienen la misma cantidad de registros.\n",
        "\n",
        "El número total de registros debería ser 45.215. Sin embargo columnas como \"job\", \"marital\", \"education\", \"balance\", \"duration\" y \"pdays\".\n",
        "\n",
        "Por ser tan pocos los datos  faltantes optaremos por eliminar las filas correspondientes:\n"
      ],
      "metadata": {
        "id": "MNY16uf9kttj"
      }
    },
    {
      "cell_type": "code",
      "source": [
        "data.dropna(inplace=True)\n",
        "data.info()"
      ],
      "metadata": {
        "colab": {
          "base_uri": "https://localhost:8080/"
        },
        "id": "6dBwKKM_j4IF",
        "outputId": "00f99159-8339-41d1-e83b-9e073d28e3f7"
      },
      "execution_count": 46,
      "outputs": [
        {
          "output_type": "stream",
          "name": "stdout",
          "text": [
            "<class 'pandas.core.frame.DataFrame'>\n",
            "Int64Index: 45207 entries, 0 to 45214\n",
            "Data columns (total 17 columns):\n",
            " #   Column     Non-Null Count  Dtype  \n",
            "---  ------     --------------  -----  \n",
            " 0   age        45207 non-null  int64  \n",
            " 1   job        45207 non-null  object \n",
            " 2   marital    45207 non-null  object \n",
            " 3   education  45207 non-null  object \n",
            " 4   default    45207 non-null  object \n",
            " 5   balance    45207 non-null  float64\n",
            " 6   housing    45207 non-null  object \n",
            " 7   loan       45207 non-null  object \n",
            " 8   contact    45207 non-null  object \n",
            " 9   day        45207 non-null  int64  \n",
            " 10  month      45207 non-null  object \n",
            " 11  duration   45207 non-null  float64\n",
            " 12  campaign   45207 non-null  int64  \n",
            " 13  pdays      45207 non-null  float64\n",
            " 14  previous   45207 non-null  int64  \n",
            " 15  poutcome   45207 non-null  object \n",
            " 16  y          45207 non-null  object \n",
            "dtypes: float64(3), int64(4), object(10)\n",
            "memory usage: 6.2+ MB\n"
          ]
        }
      ]
    },
    {
      "cell_type": "markdown",
      "source": [
        "##4.2 COLUMNAS IRRELEVANTAS\n",
        "\n",
        "Una columna irrelevante puede ser:\n",
        "\n",
        "- **Una columna que no contiene información relevante para el problema que queremos resolver**. Por ejemplo en este caso podría ser una columna que no guarde relación con el posible perfil del cliente (deporte favorito, hobbies, comida favorita, etc.)\n",
        "- **Una columna categórica pero con un sólo nivel**. Por ejemplo si en la columna \"job\" solo tuviésemos el nivel \"unknown\".\n",
        "- **Una columna numérica pero con un sólo valor**. Por ejemplo si en la columna \"edad\" todos los valores fuesen iguales a 50.\n",
        "- **Columnas con información redundante**. Por ejemplo si además de las columnas \"month\" y \"day\" tuviésemos la columna \"month-day\", resultado de combinar las dos anteriores.\n",
        "\n",
        "Si tenemos la duda de si alguna columna puede ser relevante o no lo mejor es dejarla (y más adelante en posteriores etapas podremos darnos cuenta de si se debe preservar o no).\n",
        "\n",
        "En este caso todas las columnas pueden resultar relevantes, pero debemos verificar que no haya columnas categóricas con un sólo nivel, o columnas numéricas con un sólo valor:\n",
        "\n"
      ],
      "metadata": {
        "id": "bk0PVZzruEpS"
      }
    },
    {
      "cell_type": "code",
      "source": [
        "# Conteo de los niveles en las diferentes columnas categoricas\n",
        "cols_cat = ['job', 'marital', 'education', 'default', 'housing',\n",
        "        'loan', 'contact', 'month', 'poutcome', 'y']\n",
        "\n",
        "for col in cols_cat:\n",
        "        print(f'Columna {col}: {data[col].nunique()} subniveles')"
      ],
      "metadata": {
        "colab": {
          "base_uri": "https://localhost:8080/"
        },
        "id": "qGbKyVA6lLvy",
        "outputId": "691b40e6-112c-4ded-e2aa-8e1be745c3c0"
      },
      "execution_count": 47,
      "outputs": [
        {
          "output_type": "stream",
          "name": "stdout",
          "text": [
            "Columna job: 18 subniveles\n",
            "Columna marital: 6 subniveles\n",
            "Columna education: 10 subniveles\n",
            "Columna default: 2 subniveles\n",
            "Columna housing: 2 subniveles\n",
            "Columna loan: 6 subniveles\n",
            "Columna contact: 5 subniveles\n",
            "Columna month: 12 subniveles\n",
            "Columna poutcome: 6 subniveles\n",
            "Columna y: 2 subniveles\n"
          ]
        }
      ]
    },
    {
      "cell_type": "markdown",
      "source": [
        "Todas las columnas categoricas tienen mas de 1 subniver. No eliminaremos ninguna.\n",
        "\n",
        "Verifique lo que ocurre con las columnas numericas:"
      ],
      "metadata": {
        "id": "X5IvsdLOiqSO"
      }
    },
    {
      "cell_type": "code",
      "source": [
        "data.describe()"
      ],
      "metadata": {
        "colab": {
          "base_uri": "https://localhost:8080/",
          "height": 300
        },
        "id": "ckgr60qwv6Cy",
        "outputId": "dc475b90-df53-4842-f34a-fba295d709f4"
      },
      "execution_count": 48,
      "outputs": [
        {
          "output_type": "execute_result",
          "data": {
            "text/plain": [
              "                age        balance           day      duration      campaign  \\\n",
              "count  45207.000000   45207.000000  45207.000000  45207.000000  45207.000000   \n",
              "mean      41.005596    1374.201318     15.806534    258.032539      2.763731   \n",
              "std       12.037399    3924.491665      8.323015    257.460759      3.098058   \n",
              "min       18.000000   -8019.000000      1.000000  -1389.000000      1.000000   \n",
              "25%       33.000000      72.000000      8.000000    103.000000      1.000000   \n",
              "50%       39.000000     448.000000     16.000000    180.000000      2.000000   \n",
              "75%       48.000000    1427.500000     21.000000    319.000000      3.000000   \n",
              "max      776.000000  527532.000000     31.000000   4918.000000     63.000000   \n",
              "\n",
              "              pdays      previous  \n",
              "count  45207.000000  45207.000000  \n",
              "mean      40.178225      0.580198  \n",
              "std      100.103283      2.303341  \n",
              "min       -1.000000      0.000000  \n",
              "25%       -1.000000      0.000000  \n",
              "50%       -1.000000      0.000000  \n",
              "75%       -1.000000      0.000000  \n",
              "max      871.000000    275.000000  "
            ],
            "text/html": [
              "\n",
              "  <div id=\"df-750a374d-0370-4c76-83d2-a0052918f1fa\" class=\"colab-df-container\">\n",
              "    <div>\n",
              "<style scoped>\n",
              "    .dataframe tbody tr th:only-of-type {\n",
              "        vertical-align: middle;\n",
              "    }\n",
              "\n",
              "    .dataframe tbody tr th {\n",
              "        vertical-align: top;\n",
              "    }\n",
              "\n",
              "    .dataframe thead th {\n",
              "        text-align: right;\n",
              "    }\n",
              "</style>\n",
              "<table border=\"1\" class=\"dataframe\">\n",
              "  <thead>\n",
              "    <tr style=\"text-align: right;\">\n",
              "      <th></th>\n",
              "      <th>age</th>\n",
              "      <th>balance</th>\n",
              "      <th>day</th>\n",
              "      <th>duration</th>\n",
              "      <th>campaign</th>\n",
              "      <th>pdays</th>\n",
              "      <th>previous</th>\n",
              "    </tr>\n",
              "  </thead>\n",
              "  <tbody>\n",
              "    <tr>\n",
              "      <th>count</th>\n",
              "      <td>45207.000000</td>\n",
              "      <td>45207.000000</td>\n",
              "      <td>45207.000000</td>\n",
              "      <td>45207.000000</td>\n",
              "      <td>45207.000000</td>\n",
              "      <td>45207.000000</td>\n",
              "      <td>45207.000000</td>\n",
              "    </tr>\n",
              "    <tr>\n",
              "      <th>mean</th>\n",
              "      <td>41.005596</td>\n",
              "      <td>1374.201318</td>\n",
              "      <td>15.806534</td>\n",
              "      <td>258.032539</td>\n",
              "      <td>2.763731</td>\n",
              "      <td>40.178225</td>\n",
              "      <td>0.580198</td>\n",
              "    </tr>\n",
              "    <tr>\n",
              "      <th>std</th>\n",
              "      <td>12.037399</td>\n",
              "      <td>3924.491665</td>\n",
              "      <td>8.323015</td>\n",
              "      <td>257.460759</td>\n",
              "      <td>3.098058</td>\n",
              "      <td>100.103283</td>\n",
              "      <td>2.303341</td>\n",
              "    </tr>\n",
              "    <tr>\n",
              "      <th>min</th>\n",
              "      <td>18.000000</td>\n",
              "      <td>-8019.000000</td>\n",
              "      <td>1.000000</td>\n",
              "      <td>-1389.000000</td>\n",
              "      <td>1.000000</td>\n",
              "      <td>-1.000000</td>\n",
              "      <td>0.000000</td>\n",
              "    </tr>\n",
              "    <tr>\n",
              "      <th>25%</th>\n",
              "      <td>33.000000</td>\n",
              "      <td>72.000000</td>\n",
              "      <td>8.000000</td>\n",
              "      <td>103.000000</td>\n",
              "      <td>1.000000</td>\n",
              "      <td>-1.000000</td>\n",
              "      <td>0.000000</td>\n",
              "    </tr>\n",
              "    <tr>\n",
              "      <th>50%</th>\n",
              "      <td>39.000000</td>\n",
              "      <td>448.000000</td>\n",
              "      <td>16.000000</td>\n",
              "      <td>180.000000</td>\n",
              "      <td>2.000000</td>\n",
              "      <td>-1.000000</td>\n",
              "      <td>0.000000</td>\n",
              "    </tr>\n",
              "    <tr>\n",
              "      <th>75%</th>\n",
              "      <td>48.000000</td>\n",
              "      <td>1427.500000</td>\n",
              "      <td>21.000000</td>\n",
              "      <td>319.000000</td>\n",
              "      <td>3.000000</td>\n",
              "      <td>-1.000000</td>\n",
              "      <td>0.000000</td>\n",
              "    </tr>\n",
              "    <tr>\n",
              "      <th>max</th>\n",
              "      <td>776.000000</td>\n",
              "      <td>527532.000000</td>\n",
              "      <td>31.000000</td>\n",
              "      <td>4918.000000</td>\n",
              "      <td>63.000000</td>\n",
              "      <td>871.000000</td>\n",
              "      <td>275.000000</td>\n",
              "    </tr>\n",
              "  </tbody>\n",
              "</table>\n",
              "</div>\n",
              "    <div class=\"colab-df-buttons\">\n",
              "\n",
              "  <div class=\"colab-df-container\">\n",
              "    <button class=\"colab-df-convert\" onclick=\"convertToInteractive('df-750a374d-0370-4c76-83d2-a0052918f1fa')\"\n",
              "            title=\"Convert this dataframe to an interactive table.\"\n",
              "            style=\"display:none;\">\n",
              "\n",
              "  <svg xmlns=\"http://www.w3.org/2000/svg\" height=\"24px\" viewBox=\"0 -960 960 960\">\n",
              "    <path d=\"M120-120v-720h720v720H120Zm60-500h600v-160H180v160Zm220 220h160v-160H400v160Zm0 220h160v-160H400v160ZM180-400h160v-160H180v160Zm440 0h160v-160H620v160ZM180-180h160v-160H180v160Zm440 0h160v-160H620v160Z\"/>\n",
              "  </svg>\n",
              "    </button>\n",
              "\n",
              "  <style>\n",
              "    .colab-df-container {\n",
              "      display:flex;\n",
              "      gap: 12px;\n",
              "    }\n",
              "\n",
              "    .colab-df-convert {\n",
              "      background-color: #E8F0FE;\n",
              "      border: none;\n",
              "      border-radius: 50%;\n",
              "      cursor: pointer;\n",
              "      display: none;\n",
              "      fill: #1967D2;\n",
              "      height: 32px;\n",
              "      padding: 0 0 0 0;\n",
              "      width: 32px;\n",
              "    }\n",
              "\n",
              "    .colab-df-convert:hover {\n",
              "      background-color: #E2EBFA;\n",
              "      box-shadow: 0px 1px 2px rgba(60, 64, 67, 0.3), 0px 1px 3px 1px rgba(60, 64, 67, 0.15);\n",
              "      fill: #174EA6;\n",
              "    }\n",
              "\n",
              "    .colab-df-buttons div {\n",
              "      margin-bottom: 4px;\n",
              "    }\n",
              "\n",
              "    [theme=dark] .colab-df-convert {\n",
              "      background-color: #3B4455;\n",
              "      fill: #D2E3FC;\n",
              "    }\n",
              "\n",
              "    [theme=dark] .colab-df-convert:hover {\n",
              "      background-color: #434B5C;\n",
              "      box-shadow: 0px 1px 3px 1px rgba(0, 0, 0, 0.15);\n",
              "      filter: drop-shadow(0px 1px 2px rgba(0, 0, 0, 0.3));\n",
              "      fill: #FFFFFF;\n",
              "    }\n",
              "  </style>\n",
              "\n",
              "    <script>\n",
              "      const buttonEl =\n",
              "        document.querySelector('#df-750a374d-0370-4c76-83d2-a0052918f1fa button.colab-df-convert');\n",
              "      buttonEl.style.display =\n",
              "        google.colab.kernel.accessAllowed ? 'block' : 'none';\n",
              "\n",
              "      async function convertToInteractive(key) {\n",
              "        const element = document.querySelector('#df-750a374d-0370-4c76-83d2-a0052918f1fa');\n",
              "        const dataTable =\n",
              "          await google.colab.kernel.invokeFunction('convertToInteractive',\n",
              "                                                    [key], {});\n",
              "        if (!dataTable) return;\n",
              "\n",
              "        const docLinkHtml = 'Like what you see? Visit the ' +\n",
              "          '<a target=\"_blank\" href=https://colab.research.google.com/notebooks/data_table.ipynb>data table notebook</a>'\n",
              "          + ' to learn more about interactive tables.';\n",
              "        element.innerHTML = '';\n",
              "        dataTable['output_type'] = 'display_data';\n",
              "        await google.colab.output.renderOutput(dataTable, element);\n",
              "        const docLink = document.createElement('div');\n",
              "        docLink.innerHTML = docLinkHtml;\n",
              "        element.appendChild(docLink);\n",
              "      }\n",
              "    </script>\n",
              "  </div>\n",
              "\n",
              "\n",
              "<div id=\"df-6698c1ac-4eed-4972-811b-c75c012f3123\">\n",
              "  <button class=\"colab-df-quickchart\" onclick=\"quickchart('df-6698c1ac-4eed-4972-811b-c75c012f3123')\"\n",
              "            title=\"Suggest charts\"\n",
              "            style=\"display:none;\">\n",
              "\n",
              "<svg xmlns=\"http://www.w3.org/2000/svg\" height=\"24px\"viewBox=\"0 0 24 24\"\n",
              "     width=\"24px\">\n",
              "    <g>\n",
              "        <path d=\"M19 3H5c-1.1 0-2 .9-2 2v14c0 1.1.9 2 2 2h14c1.1 0 2-.9 2-2V5c0-1.1-.9-2-2-2zM9 17H7v-7h2v7zm4 0h-2V7h2v10zm4 0h-2v-4h2v4z\"/>\n",
              "    </g>\n",
              "</svg>\n",
              "  </button>\n",
              "\n",
              "<style>\n",
              "  .colab-df-quickchart {\n",
              "      --bg-color: #E8F0FE;\n",
              "      --fill-color: #1967D2;\n",
              "      --hover-bg-color: #E2EBFA;\n",
              "      --hover-fill-color: #174EA6;\n",
              "      --disabled-fill-color: #AAA;\n",
              "      --disabled-bg-color: #DDD;\n",
              "  }\n",
              "\n",
              "  [theme=dark] .colab-df-quickchart {\n",
              "      --bg-color: #3B4455;\n",
              "      --fill-color: #D2E3FC;\n",
              "      --hover-bg-color: #434B5C;\n",
              "      --hover-fill-color: #FFFFFF;\n",
              "      --disabled-bg-color: #3B4455;\n",
              "      --disabled-fill-color: #666;\n",
              "  }\n",
              "\n",
              "  .colab-df-quickchart {\n",
              "    background-color: var(--bg-color);\n",
              "    border: none;\n",
              "    border-radius: 50%;\n",
              "    cursor: pointer;\n",
              "    display: none;\n",
              "    fill: var(--fill-color);\n",
              "    height: 32px;\n",
              "    padding: 0;\n",
              "    width: 32px;\n",
              "  }\n",
              "\n",
              "  .colab-df-quickchart:hover {\n",
              "    background-color: var(--hover-bg-color);\n",
              "    box-shadow: 0 1px 2px rgba(60, 64, 67, 0.3), 0 1px 3px 1px rgba(60, 64, 67, 0.15);\n",
              "    fill: var(--button-hover-fill-color);\n",
              "  }\n",
              "\n",
              "  .colab-df-quickchart-complete:disabled,\n",
              "  .colab-df-quickchart-complete:disabled:hover {\n",
              "    background-color: var(--disabled-bg-color);\n",
              "    fill: var(--disabled-fill-color);\n",
              "    box-shadow: none;\n",
              "  }\n",
              "\n",
              "  .colab-df-spinner {\n",
              "    border: 2px solid var(--fill-color);\n",
              "    border-color: transparent;\n",
              "    border-bottom-color: var(--fill-color);\n",
              "    animation:\n",
              "      spin 1s steps(1) infinite;\n",
              "  }\n",
              "\n",
              "  @keyframes spin {\n",
              "    0% {\n",
              "      border-color: transparent;\n",
              "      border-bottom-color: var(--fill-color);\n",
              "      border-left-color: var(--fill-color);\n",
              "    }\n",
              "    20% {\n",
              "      border-color: transparent;\n",
              "      border-left-color: var(--fill-color);\n",
              "      border-top-color: var(--fill-color);\n",
              "    }\n",
              "    30% {\n",
              "      border-color: transparent;\n",
              "      border-left-color: var(--fill-color);\n",
              "      border-top-color: var(--fill-color);\n",
              "      border-right-color: var(--fill-color);\n",
              "    }\n",
              "    40% {\n",
              "      border-color: transparent;\n",
              "      border-right-color: var(--fill-color);\n",
              "      border-top-color: var(--fill-color);\n",
              "    }\n",
              "    60% {\n",
              "      border-color: transparent;\n",
              "      border-right-color: var(--fill-color);\n",
              "    }\n",
              "    80% {\n",
              "      border-color: transparent;\n",
              "      border-right-color: var(--fill-color);\n",
              "      border-bottom-color: var(--fill-color);\n",
              "    }\n",
              "    90% {\n",
              "      border-color: transparent;\n",
              "      border-bottom-color: var(--fill-color);\n",
              "    }\n",
              "  }\n",
              "</style>\n",
              "\n",
              "  <script>\n",
              "    async function quickchart(key) {\n",
              "      const quickchartButtonEl =\n",
              "        document.querySelector('#' + key + ' button');\n",
              "      quickchartButtonEl.disabled = true;  // To prevent multiple clicks.\n",
              "      quickchartButtonEl.classList.add('colab-df-spinner');\n",
              "      try {\n",
              "        const charts = await google.colab.kernel.invokeFunction(\n",
              "            'suggestCharts', [key], {});\n",
              "      } catch (error) {\n",
              "        console.error('Error during call to suggestCharts:', error);\n",
              "      }\n",
              "      quickchartButtonEl.classList.remove('colab-df-spinner');\n",
              "      quickchartButtonEl.classList.add('colab-df-quickchart-complete');\n",
              "    }\n",
              "    (() => {\n",
              "      let quickchartButtonEl =\n",
              "        document.querySelector('#df-6698c1ac-4eed-4972-811b-c75c012f3123 button');\n",
              "      quickchartButtonEl.style.display =\n",
              "        google.colab.kernel.accessAllowed ? 'block' : 'none';\n",
              "    })();\n",
              "  </script>\n",
              "</div>\n",
              "\n",
              "    </div>\n",
              "  </div>\n"
            ],
            "application/vnd.google.colaboratory.intrinsic+json": {
              "type": "dataframe",
              "summary": "{\n  \"name\": \"data\",\n  \"rows\": 8,\n  \"fields\": [\n    {\n      \"column\": \"age\",\n      \"properties\": {\n        \"dtype\": \"number\",\n        \"std\": 15936.377113535487,\n        \"min\": 12.037399491095579,\n        \"max\": 45207.0,\n        \"samples\": [\n          41.00559647842148,\n          39.0,\n          45207.0\n        ],\n        \"num_unique_values\": 8,\n        \"semantic_type\": \"\",\n        \"description\": \"\"\n      }\n    },\n    {\n      \"column\": \"balance\",\n      \"properties\": {\n        \"dtype\": \"number\",\n        \"std\": 184980.44537690686,\n        \"min\": -8019.0,\n        \"max\": 527532.0,\n        \"samples\": [\n          1374.201318379897,\n          448.0,\n          45207.0\n        ],\n        \"num_unique_values\": 8,\n        \"semantic_type\": \"\",\n        \"description\": \"\"\n      }\n    },\n    {\n      \"column\": \"day\",\n      \"properties\": {\n        \"dtype\": \"number\",\n        \"std\": 15977.982912722464,\n        \"min\": 1.0,\n        \"max\": 45207.0,\n        \"samples\": [\n          15.806534386267613,\n          16.0,\n          45207.0\n        ],\n        \"num_unique_values\": 8,\n        \"semantic_type\": \"\",\n        \"description\": \"\"\n      }\n    },\n    {\n      \"column\": \"duration\",\n      \"properties\": {\n        \"dtype\": \"number\",\n        \"std\": 15853.774591473693,\n        \"min\": -1389.0,\n        \"max\": 45207.0,\n        \"samples\": [\n          258.03253920852967,\n          180.0,\n          45207.0\n        ],\n        \"num_unique_values\": 8,\n        \"semantic_type\": \"\",\n        \"description\": \"\"\n      }\n    },\n    {\n      \"column\": \"campaign\",\n      \"properties\": {\n        \"dtype\": \"number\",\n        \"std\": 15979.270740389022,\n        \"min\": 1.0,\n        \"max\": 45207.0,\n        \"samples\": [\n          45207.0,\n          2.7637312805538965,\n          3.0\n        ],\n        \"num_unique_values\": 7,\n        \"semantic_type\": \"\",\n        \"description\": \"\"\n      }\n    },\n    {\n      \"column\": \"pdays\",\n      \"properties\": {\n        \"dtype\": \"number\",\n        \"std\": 15935.01603409571,\n        \"min\": -1.0,\n        \"max\": 45207.0,\n        \"samples\": [\n          40.17822461123277,\n          871.0,\n          100.10328306134589\n        ],\n        \"num_unique_values\": 5,\n        \"semantic_type\": \"\",\n        \"description\": \"\"\n      }\n    },\n    {\n      \"column\": \"previous\",\n      \"properties\": {\n        \"dtype\": \"number\",\n        \"std\": 15969.34183644876,\n        \"min\": 0.0,\n        \"max\": 45207.0,\n        \"samples\": [\n          0.5801977569845378,\n          275.0,\n          2.3033409783835315\n        ],\n        \"num_unique_values\": 5,\n        \"semantic_type\": \"\",\n        \"description\": \"\"\n      }\n    }\n  ]\n}"
            }
          },
          "metadata": {},
          "execution_count": 48
        }
      ]
    },
    {
      "cell_type": "markdown",
      "source": [
        "Todas las columnas numericas tienen desviaciones estandar (''std'') diferentes de cero, loque indica que no tienen un unico valor. preservaremos todas las columnas numericas\n",
        "\n",
        "La desviacion estandar es una medida que nos indica que tan dispersos o alejados estan los valores de un conjunto de datos respecto a su media o promedio.\n",
        "\n",
        "Imagina que tienes un conjunto de datos que representa las alturs de los estudiantes en una clase. Si la desviacion estandar es baja, significa que la mayoria de los estudiantes tienen alturas muy similares entre si y cercanas a la altura promedio de la clase. Por otro lado, si la desviacion estandar es muy alta, significa que las alturas de los estudiantes estan muy dispersas, algunos son muy altos y otros muy bajos en comparacion con la altura promedio.\n",
        "\n",
        "Entonces, la desviacion estandar nos da una idea de la dispersion o variabilidad de los datos alrededor de su promedio. Una desviacion estandar baja indica que los datos estan mas agrupados alrededor del promedio, mientras que una desviacion estandar alta indica que los datos estan mas dispersos o separados del promedio"
      ],
      "metadata": {
        "id": "CY7YmSwWxPrb"
      }
    },
    {
      "cell_type": "code",
      "source": [
        "#conteo de valores con -1\n",
        "count = data ['pdays'].value_counts()[-1]\n",
        "print(count)"
      ],
      "metadata": {
        "colab": {
          "base_uri": "https://localhost:8080/"
        },
        "id": "TeTma1hFGBpU",
        "outputId": "c7361948-862c-437d-e534-109c9c8e9c14"
      },
      "execution_count": 49,
      "outputs": [
        {
          "output_type": "stream",
          "name": "stdout",
          "text": [
            "36953\n"
          ]
        }
      ]
    },
    {
      "cell_type": "code",
      "source": [
        "# Calcula la media del atributo ''pdays: dias de contacto antes de la campaña actual''\n",
        "media = data['pdays'].mean()\n",
        "\n",
        "print ('Promedio de dias de contacto:', media)"
      ],
      "metadata": {
        "id": "UnC873JWxKSt",
        "colab": {
          "base_uri": "https://localhost:8080/"
        },
        "outputId": "06f8ccf1-3819-49bb-dd4a-fd38e9878135"
      },
      "execution_count": 50,
      "outputs": [
        {
          "output_type": "stream",
          "name": "stdout",
          "text": [
            "Promedio de dias de contacto: 40.17822461123277\n"
          ]
        }
      ]
    },
    {
      "cell_type": "code",
      "source": [
        "#graficar un histograma del atributo 'pdays'\n",
        "pit.hist(data['pdays'], bins=20, color='yellow', edgecolor='green', alpha=0.9)\n",
        "\n",
        "#agregar una linea vertical para mostrar la media\n",
        "pit.axvline(media, color='darkblue', linestyle='dashed', linewidth=1)\n",
        "\n",
        "#Etiqueta y titulo\n",
        "pit.xlabel('valor de pdays')\n",
        "pit.ylabel('frecuencia')\n",
        "pit.title('Histograma de la pdays con Media')\n",
        "\n",
        "#Mostrar la grafica\n",
        "pit.show()"
      ],
      "metadata": {
        "colab": {
          "base_uri": "https://localhost:8080/",
          "height": 472
        },
        "id": "PDKK3DGZvull",
        "outputId": "004e988b-7af0-42c8-cc8e-131c5ae0e5f0"
      },
      "execution_count": 51,
      "outputs": [
        {
          "output_type": "display_data",
          "data": {
            "text/plain": [
              "<Figure size 640x480 with 1 Axes>"
            ],
            "image/png": "[encoded data removed]"
          },
          "metadata": {}
        }
      ]
    },
    {
      "cell_type": "code",
      "source": [
        "# Calcula la desviacion estandar del atributo ''pdays''\n",
        "desviacion_estandar = data['pdays'].std()\n",
        "print('Desviacion estandar de la pdays:', desviacion_estandar)"
      ],
      "metadata": {
        "colab": {
          "base_uri": "https://localhost:8080/"
        },
        "id": "KygX6j2JSRTh",
        "outputId": "303fa253-6b83-47c2-9a24-0f136c9e8576"
      },
      "execution_count": 52,
      "outputs": [
        {
          "output_type": "stream",
          "name": "stdout",
          "text": [
            "Desviacion estandar de la pdays: 100.10328306134589\n"
          ]
        }
      ]
    },
    {
      "cell_type": "code",
      "source": [
        "# Graficar un histograma de pdays con Desviacion Estandar\n",
        "pit.hist(data['pdays'], bins=20, color= 'green', edgecolor='darkblue', alpha=0.7)\n",
        "\n",
        "#Agregar una linea vertical para mostrar la desviacion estandar\n",
        "#pit.axvline(data['pdays'].std(), color='red', linestyle='dashed', linewidth=2)\n",
        "pit.axvline(desviacion_estandar, color='red', linestyle='dashed', linewidth=1)\n",
        "\n",
        "#Etiquetas y titulo\n",
        "pit.xlabel('Valor de la pdays')\n",
        "pit.ylabel('Frecuencia')\n",
        "pit.title('Histograma de la pdays con Desviacion Estandar')\n",
        "\n",
        "#Mostrar la grafica"
      ],
      "metadata": {
        "id": "TxSPa3w-1m5p",
        "colab": {
          "base_uri": "https://localhost:8080/",
          "height": 489
        },
        "outputId": "590675f8-a854-4d98-f502-1c26bafa51d4"
      },
      "execution_count": 53,
      "outputs": [
        {
          "output_type": "execute_result",
          "data": {
            "text/plain": [
              "Text(0.5, 1.0, 'Histograma de la pdays con Desviacion Estandar')"
            ]
          },
          "metadata": {},
          "execution_count": 53
        },
        {
          "output_type": "display_data",
          "data": {
            "text/plain": [
              "<Figure size 640x480 with 1 Axes>"
            ],
            "image/png": "[encoded data removed]"
          },
          "metadata": {}
        }
      ]
    },
    {
      "cell_type": "code",
      "source": [
        "# Calcular la media del atributo ''campaña''\n",
        "media= data['campaign'].mean()\n",
        "print('promedio de atributo campaing:', media)"
      ],
      "metadata": {
        "id": "SgcRWADlzHRn",
        "colab": {
          "base_uri": "https://localhost:8080/"
        },
        "outputId": "ffebfb54-b655-406d-c8b5-a8a4f18a9d7a"
      },
      "execution_count": 54,
      "outputs": [
        {
          "output_type": "stream",
          "name": "stdout",
          "text": [
            "promedio de atributo campaing: 2.7637312805538965\n"
          ]
        }
      ]
    },
    {
      "cell_type": "code",
      "source": [
        "# Graficar un histograma del atributo ''campaña''\n",
        "pit.hist(data['campaign'], bins=20, color='blue', edgecolor='black', alpha=0.9)\n",
        "\n",
        "#Agregar una linea vertical de la media\n",
        "pit.axvline(media, color='red', linestyle='dashed', linewidth=1)\n",
        "\n",
        "#Etiquetas y titulo\n",
        "pit.xlabel('Valor de campaña')\n",
        "pit.ylabel('Frecuencia')\n",
        "pit.title('Histograma de la campaña con la media')\n",
        "\n",
        "#Mostrar la grafica\n",
        "pit.show()"
      ],
      "metadata": {
        "id": "JYRrmm4Pj2XH",
        "colab": {
          "base_uri": "https://localhost:8080/",
          "height": 472
        },
        "outputId": "68436e46-ab04-42e1-acef-0f0599ad8c2d"
      },
      "execution_count": 55,
      "outputs": [
        {
          "output_type": "display_data",
          "data": {
            "text/plain": [
              "<Figure size 640x480 with 1 Axes>"
            ],
            "image/png": "[encoded data removed]"
          },
          "metadata": {}
        }
      ]
    },
    {
      "cell_type": "markdown",
      "source": [
        "4.3 Filas repetidas"
      ],
      "metadata": {
        "id": "JUSQv9uD8o-V"
      }
    },
    {
      "cell_type": "code",
      "source": [
        "print(f'tamaño del set antes de eliminar filas repetidas: {data.shape}')\n",
        "data.drop_duplicates(inplace=True)\n",
        "print(f'tamaño del set despues de eliminar las filas repetidas: {data.shape}')"
      ],
      "metadata": {
        "colab": {
          "base_uri": "https://localhost:8080/"
        },
        "id": "SEMGSYXX8rep",
        "outputId": "d5649a8d-3c77-41a5-b88a-0bb5babc620f"
      },
      "execution_count": 56,
      "outputs": [
        {
          "output_type": "stream",
          "name": "stdout",
          "text": [
            "tamaño del set antes de eliminar filas repetidas: (45207, 17)\n",
            "tamaño del set despues de eliminar las filas repetidas: (45203, 17)\n"
          ]
        }
      ]
    },
    {
      "cell_type": "markdown",
      "source": [
        "4.4 *Outliers* en las variales numericas\n",
        "No siempre se deben eliminar los *outliers* porque depediendo de la variable numerica analizada estos pueden contener informacion importante.\n",
        "Creemos graficas tipo ''boxplot'' de las columnas numericas:"
      ],
      "metadata": {
        "id": "wX8IMmD3_siO"
      }
    },
    {
      "cell_type": "code",
      "source": [
        "#Generar graficos individuales pues las variables numericas estan en rangos\n",
        "#direfente\n",
        "\n",
        "cols_num =['age', 'balance', 'day', 'duration', 'campaign',\n",
        "           'pdays', 'previous']\n",
        "\n",
        "fig, ax = pit.subplots(nrows=7, ncols=1, figsize=(8,30))\n",
        "fig.subplots_adjust(hspace=0.5)\n",
        "\n",
        "#for i, col in enumerate(cols_num):\n",
        " #   sns.boxplot(x=col, data=data, ax=ax[i])\n",
        " #   ax[i].set_title(col)\n",
        "for i, col in enumerate(cols_num):\n",
        "    sns.boxplot(x=col, data=data, ax=ax[i])\n",
        "    ax[i].set_title(col)"
      ],
      "metadata": {
        "id": "PQ8Guczl9igL",
        "colab": {
          "base_uri": "https://localhost:8080/",
          "height": 1000
        },
        "outputId": "2a8d2f6a-f8eb-465f-e5c3-8f2b5b564d8c"
      },
      "execution_count": 57,
      "outputs": [
        {
          "output_type": "display_data",
          "data": {
            "text/plain": [
              "<Figure size 800x3000 with 7 Axes>"
            ],
            "image/png": "[encoded data removed]"
          },
          "metadata": {}
        }
      ]
    },
    {
      "cell_type": "markdown",
      "source": [
        "OBSERVACIONES\n",
        "- ''AGE'': Hay sujetos con edades mucho mayores a 100 años\n",
        "- ''DURATION'': Hay valores negativos\n",
        "- ''PREVIOUS'':Hay un valor extremadamente alto (cercano a 300)"
      ],
      "metadata": {
        "id": "YIi1GYko7pb7"
      }
    },
    {
      "cell_type": "code",
      "source": [
        "#ELIMINAR FILAS CON ''AGE''>100\n",
        "print(f'Tamaño del set antes de eliminar registros de edad:{data.shape}')\n",
        "data= data.drop(data[data['age'] > 100].index)\n",
        "print(f'Tamaño del set despues de eliminar registros de edad: {data.shape}')"
      ],
      "metadata": {
        "id": "ViETlLUCBlVx",
        "colab": {
          "base_uri": "https://localhost:8080/"
        },
        "outputId": "a1e8705a-da9f-4850-fbe4-c7b7d10207cb"
      },
      "execution_count": 60,
      "outputs": [
        {
          "output_type": "stream",
          "name": "stdout",
          "text": [
            "Tamaño del set antes de eliminar registros de edad:(45203, 17)\n",
            "Tamaño del set despues de eliminar registros de edad: (45195, 17)\n"
          ]
        }
      ]
    },
    {
      "cell_type": "code",
      "source": [
        "#ELIMINAR FILAS CON ''DURATION''<0\n",
        "print(f'Tamaño del set antes de eliminar registros de edad:{data.shape}')\n",
        "data = data.drop(data[data['duration'] < 0].index)\n",
        "print(f'Tamaño del set despues de eliminar registros de edad: {data.shape}')"
      ],
      "metadata": {
        "colab": {
          "base_uri": "https://localhost:8080/"
        },
        "id": "NHyKh1NA82h2",
        "outputId": "76603587-c712-4e19-a3d1-1639de604e25"
      },
      "execution_count": 61,
      "outputs": [
        {
          "output_type": "stream",
          "name": "stdout",
          "text": [
            "Tamaño del set antes de eliminar registros de edad:(45195, 17)\n",
            "Tamaño del set despues de eliminar registros de edad: (45193, 17)\n"
          ]
        }
      ]
    },
    {
      "cell_type": "code",
      "source": [],
      "metadata": {
        "id": "83gXp-63-TXQ"
      },
      "execution_count": null,
      "outputs": []
    }
  ]
}